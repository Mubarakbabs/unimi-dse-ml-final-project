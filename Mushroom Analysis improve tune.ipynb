{
 "cells": [
  {
   "cell_type": "code",
   "execution_count": 1,
   "metadata": {},
   "outputs": [],
   "source": [
    "from scripts.final.DecisionTree import DecisionTree\n",
    "from scripts.final.utils import *\n",
    "import pandas as pd\n",
    "import numpy as np\n",
    "from ucimlrepo import fetch_ucirepo #for importing data\n",
    "from summarytools import dfSummary"
   ]
  },
  {
   "cell_type": "code",
   "execution_count": 2,
   "metadata": {},
   "outputs": [],
   "source": [
    "# fetch dataset \n",
    "secondary_mushroom = fetch_ucirepo(id=848) \n",
    "  \n",
    "# data (as pandas dataframes) \n",
    "X_loaded = secondary_mushroom.data.features \n",
    "y_loaded = secondary_mushroom.data.targets"
   ]
  },
  {
   "cell_type": "code",
   "execution_count": 3,
   "metadata": {},
   "outputs": [],
   "source": [
    "X = X_loaded.copy()\n",
    "y = y_loaded.copy()"
   ]
  },
  {
   "cell_type": "code",
   "execution_count": 4,
   "metadata": {},
   "outputs": [],
   "source": [
    "X = X.drop(['spore-print-color', 'veil-type', 'veil-color', 'stem-root'], axis=1)"
   ]
  },
  {
   "cell_type": "code",
   "execution_count": 5,
   "metadata": {},
   "outputs": [],
   "source": [
    "for col in X:\n",
    "    X.loc[:,col]=X.loc[:,col].astype(str) if X.loc[:,col].dtype == 'object' else X.loc[:,col]"
   ]
  },
  {
   "cell_type": "code",
   "execution_count": 6,
   "metadata": {},
   "outputs": [
    {
     "name": "stdout",
     "output_type": "stream",
     "text": [
      "{'class': {'e': 0, 'p': 1}}\n"
     ]
    }
   ],
   "source": [
    "#encode y into 0s and 1s. \n",
    "y_mapping = encode_labels(y)\n",
    "print(y_mapping)"
   ]
  },
  {
   "cell_type": "code",
   "execution_count": 7,
   "metadata": {},
   "outputs": [],
   "source": [
    "#split dataset into train and test\n",
    "X_train, X_test, y_train, y_test = train_test_split(X, y, test_size=0.2, random_state=42)"
   ]
  },
  {
   "cell_type": "markdown",
   "metadata": {},
   "source": [
    "Now we train the tree using each of the three splitting methods"
   ]
  },
  {
   "cell_type": "markdown",
   "metadata": {},
   "source": [
    "Model 1: Entropy"
   ]
  },
  {
   "cell_type": "code",
   "execution_count": 11,
   "metadata": {},
   "outputs": [],
   "source": [
    "#training the decision tree\n",
    "entropy_model = DecisionTree(split_using='entropy', max_depth=10)\n",
    "entropy_model.fit(X_train, y_train)"
   ]
  },
  {
   "cell_type": "code",
   "execution_count": 12,
   "metadata": {},
   "outputs": [
    {
     "name": "stdout",
     "output_type": "stream",
     "text": [
      "Accuracy: 0.8505813001473719\n",
      "0.8505813001473719\n",
      "Precision: 0.9733811591466868\n",
      "0.9733811591466868\n",
      "Recall: 0.7538011695906432\n",
      "0.7538011695906432\n"
     ]
    }
   ],
   "source": [
    "#performance of entropy model\n",
    "entropy_pred = entropy_model.predict(X_test)\n",
    "print(accuracy(y_test, entropy_pred))\n",
    "print(precision(y_test, entropy_pred))\n",
    "print(recall(y_test, entropy_pred))"
   ]
  },
  {
   "cell_type": "markdown",
   "metadata": {},
   "source": [
    "Model 2: Gini impurity"
   ]
  },
  {
   "cell_type": "code",
   "execution_count": 13,
   "metadata": {},
   "outputs": [],
   "source": [
    "#training the decision tree\n",
    "gini_model = DecisionTree(split_using='gini', max_depth=10)\n",
    "gini_model.fit(X_train, y_train)"
   ]
  },
  {
   "cell_type": "code",
   "execution_count": 14,
   "metadata": {},
   "outputs": [
    {
     "name": "stdout",
     "output_type": "stream",
     "text": [
      "Accuracy: 0.9042901588341248\n",
      "0.9042901588341248\n",
      "Precision: 0.9544798845968905\n",
      "0.9544798845968905\n",
      "Recall: 0.8706140350877193\n",
      "0.8706140350877193\n"
     ]
    }
   ],
   "source": [
    "#performance of gini model\n",
    "gini_pred = gini_model.predict(X_test)\n",
    "print(accuracy(y_test, gini_pred))\n",
    "print(precision(y_test, gini_pred))\n",
    "print(recall(y_test, gini_pred))"
   ]
  },
  {
   "cell_type": "markdown",
   "metadata": {},
   "source": [
    "Model 3: Train Error\n",
    "\n",
    "Next we adopt the training error using zero-one loss as a splitting criteria"
   ]
  },
  {
   "cell_type": "code",
   "execution_count": 15,
   "metadata": {},
   "outputs": [],
   "source": [
    "#training the decision tree\n",
    "train_error_model = DecisionTree(split_using='train_error', max_depth=10)\n",
    "train_error_model.fit(X_train, y_train)"
   ]
  },
  {
   "cell_type": "code",
   "execution_count": 16,
   "metadata": {},
   "outputs": [
    {
     "name": "stdout",
     "output_type": "stream",
     "text": [
      "Accuracy: 0.8078434583265106\n",
      "0.8078434583265106\n",
      "Precision: 0.8805692021006268\n",
      "0.8805692021006268\n",
      "Recall: 0.7599415204678363\n",
      "0.7599415204678363\n"
     ]
    }
   ],
   "source": [
    "#performance of train_error model\n",
    "train_error_pred = train_error_model.predict(X_test)\n",
    "print(accuracy(y_test, train_error_pred))\n",
    "print(precision(y_test, train_error_pred))\n",
    "print(recall(y_test, train_error_pred))"
   ]
  },
  {
   "cell_type": "code",
   "execution_count": 17,
   "metadata": {},
   "outputs": [
    {
     "name": "stdout",
     "output_type": "stream",
     "text": [
      "entropy train error: 0.1510387882509467\n",
      "gini train error: 0.09415617644048715\n",
      "train_error train error: 0.1857332923958653\n"
     ]
    }
   ],
   "source": [
    "#training errors of each model\n",
    "entropy_train = entropy_model.predict(X_train)\n",
    "gini_train = gini_model.predict(X_train)\n",
    "train_error_train = train_error_model.predict(X_train)\n",
    "print(f\"entropy train error: {zero_one_loss(y_train, entropy_train)}\")\n",
    "print(f\"gini train error: {zero_one_loss(y_train, gini_train)}\")\n",
    "print(f\"train_error train error: {zero_one_loss(y_train, train_error_train)}\")"
   ]
  },
  {
   "cell_type": "markdown",
   "metadata": {},
   "source": [
    "It's easy to see that the training errors are similar to the test errors, showing that the model didn't overfit considering the stopping criteria."
   ]
  },
  {
   "cell_type": "markdown",
   "metadata": {},
   "source": [
    "finally we perform hyper parameter tuning to optimize the model on the max depth stopping criterion"
   ]
  },
  {
   "cell_type": "code",
   "execution_count": 10,
   "metadata": {},
   "outputs": [],
   "source": [
    "from joblib import Parallel, delayed\n",
    "def evaluate_model(X_train, y_train, X_validate, y_validate, tune_on, split_using, i):\n",
    "    params = {tune_on: i, 'split_using': split_using}\n",
    "    tree = DecisionTree(**params)\n",
    "    tree.fit(X_train, y_train)\n",
    "    y_pred = tree.predict(X_validate)\n",
    "    validation_error = zero_one_loss(y_validate, y_pred)\n",
    "    print(f\"tree depth: {tree.max_depth}, validation error: {validation_error}\")\n",
    "    return validation_error, tree, i\n",
    "\n",
    "def tune(X, y, tune_on, split_using, start, stop, n_jobs=-1):\n",
    "    X_train, X_validate, y_train, y_validate = train_test_split(X, y, test_size=0.2)\n",
    "    \n",
    "    results = Parallel(n_jobs=n_jobs)(\n",
    "        delayed(evaluate_model)(X_train, y_train, X_validate, y_validate, tune_on, split_using, i)\n",
    "        for i in range(start, stop)\n",
    "    )\n",
    "    \n",
    "    best_error, best_tree, best_depth = min(results, key=lambda x: x[0])\n",
    "    \n",
    "    print(f\"best depth: {best_depth} split criterion: {split_using} validation error: {round(best_error * 100, 2)} %\")\n",
    "    return best_tree\n"
   ]
  },
  {
   "cell_type": "code",
   "execution_count": 11,
   "metadata": {},
   "outputs": [],
   "source": [
    "#tryna see if at some point the validation starts to rise\n",
    "#tuning the tree on the max_depth criterion\n",
    "\n",
    "tuned_tree = tune(X_train, y_train, tune_on='max_depth',split_using='gini', start=15, stop=25)"
   ]
  },
  {
   "cell_type": "code",
   "execution_count": null,
   "metadata": {},
   "outputs": [],
   "source": [
    "#retraining the tree with the best validation error\n",
    "best_tree = DecisionTree(max_depth=20, split_using='gini')\n",
    "best_tree.fit(X_train, y_train)"
   ]
  },
  {
   "cell_type": "code",
   "execution_count": null,
   "metadata": {},
   "outputs": [
    {
     "name": "stdout",
     "output_type": "stream",
     "text": [
      "Accuracy: 0.997789421974783\n",
      "Precision: 0.9980991373007749\n",
      "Recall: 0.997953216374269\n"
     ]
    }
   ],
   "source": [
    "y_pred = best_tree.predict(X_test)\n",
    "print(accuracy(y_test, y_pred))\n",
    "print(precision(y_test, y_pred))\n",
    "print(recall(y_test, y_pred))"
   ]
  }
 ],
 "metadata": {
  "kernelspec": {
   "display_name": "Python 3 (ipykernel)",
   "language": "python",
   "name": "python3"
  },
  "language_info": {
   "codemirror_mode": {
    "name": "ipython",
    "version": 3
   },
   "file_extension": ".py",
   "mimetype": "text/x-python",
   "name": "python",
   "nbconvert_exporter": "python",
   "pygments_lexer": "ipython3",
   "version": "3.11.4"
  }
 },
 "nbformat": 4,
 "nbformat_minor": 2
}
