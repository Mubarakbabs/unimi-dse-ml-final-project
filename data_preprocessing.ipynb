{
 "cells": [
  {
   "cell_type": "code",
   "execution_count": null,
   "metadata": {},
   "outputs": [],
   "source": [
    "#missing values\n"
   ]
  },
  {
   "cell_type": "markdown",
   "metadata": {},
   "source": [
    "some columns have a very high percentage of missing values. The following are the options for handling them:\n",
    "1. Drop columns: We'd have to check the accuracy of the model with and without those columns\n",
    "2. Imputation: Imputation is not an option because it will lead to specific values becoming overweighted in the buidlign of the tree\n",
    "3. treat null as separate category: This is an option because while it can have the same problem as #2 above, there is a good possibility that certain values are more likely to be null for certain species. Hence, this could be a factor in the prediction (let's verify this in EDA)\n",
    "4. Surrogate split: learn a little more about this and consider implementing it in the tree"
   ]
  },
  {
   "cell_type": "code",
   "execution_count": 1,
   "metadata": {},
   "outputs": [],
   "source": [
    "from scripts.DecisionTree_cat_numpy import DecisionTree\n",
    "from scripts.utils import *\n",
    "import pandas as pd\n",
    "import numpy as np\n",
    "from ucimlrepo import fetch_ucirepo #for importing data"
   ]
  },
  {
   "cell_type": "code",
   "execution_count": 2,
   "metadata": {},
   "outputs": [],
   "source": [
    "# fetch dataset \n",
    "secondary_mushroom = fetch_ucirepo(id=848) \n",
    "  \n",
    "# data (as pandas dataframes) \n",
    "X_loaded = secondary_mushroom.data.features \n",
    "y_loaded = secondary_mushroom.data.targets"
   ]
  },
  {
   "cell_type": "code",
   "execution_count": 3,
   "metadata": {},
   "outputs": [],
   "source": [
    "X = X_loaded.copy()\n",
    "y = y_loaded.copy()"
   ]
  },
  {
   "cell_type": "code",
   "execution_count": 4,
   "metadata": {},
   "outputs": [],
   "source": [
    "#for handling missing values, we chose to force missing values into strings because considering the nature of the dataset, absence of values may be meaningful\n",
    "\n",
    "#the lines below force all datapoints into string for categorical columns, effectively turning missing values into an independent category\n",
    "for col in X:\n",
    "    X.loc[:,col]=X.loc[:,col].astype(str) if X.loc[:,col].dtype == 'object' else X.loc[:,col]"
   ]
  },
  {
   "cell_type": "code",
   "execution_count": 6,
   "metadata": {},
   "outputs": [],
   "source": [
    "#encode y into 0s and 1s. X is left in its original form to allow the model handle categorical and numerical variables differently\n",
    "y_mapping = encode_labels(y)"
   ]
  },
  {
   "cell_type": "code",
   "execution_count": null,
   "metadata": {},
   "outputs": [],
   "source": [
    "#explore data lol"
   ]
  },
  {
   "cell_type": "code",
   "execution_count": 8,
   "metadata": {},
   "outputs": [],
   "source": [
    "#split dataset into train and test\n",
    "X_train, X_test, y_train, y_test = train_test_split(X, y, test_size=0.2, random_state=42)"
   ]
  },
  {
   "cell_type": "code",
   "execution_count": null,
   "metadata": {},
   "outputs": [],
   "source": [
    "#train tree\n",
    "clf = DecisionTree()\n",
    "clf.fit(X_train, y_train)"
   ]
  },
  {
   "cell_type": "code",
   "execution_count": null,
   "metadata": {},
   "outputs": [],
   "source": [
    "#predict and show performance\n",
    "y_pred = clf.predict(X_test)\n",
    "print(accuracy(y_test, y_pred))\n",
    "print(precision(y_test, y_pred))\n",
    "print(recall(y_test, y_pred))"
   ]
  }
 ],
 "metadata": {
  "kernelspec": {
   "display_name": "Python 3",
   "language": "python",
   "name": "python3"
  },
  "language_info": {
   "codemirror_mode": {
    "name": "ipython",
    "version": 3
   },
   "file_extension": ".py",
   "mimetype": "text/x-python",
   "name": "python",
   "nbconvert_exporter": "python",
   "pygments_lexer": "ipython3",
   "version": "3.11.4"
  }
 },
 "nbformat": 4,
 "nbformat_minor": 2
}
